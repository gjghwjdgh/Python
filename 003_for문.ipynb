{
  "nbformat": 4,
  "nbformat_minor": 0,
  "metadata": {
    "colab": {
      "name": "003_for문.ipynb",
      "provenance": [],
      "authorship_tag": "ABX9TyN7kprjE7zAtJmi7zwapLs0",
      "include_colab_link": true
    },
    "kernelspec": {
      "name": "python3",
      "display_name": "Python 3"
    }
  },
  "cells": [
    {
      "cell_type": "markdown",
      "metadata": {
        "id": "view-in-github",
        "colab_type": "text"
      },
      "source": [
        "<a href=\"https://colab.research.google.com/github/gjghwjdgh/Python/blob/master/003_for%EB%AC%B8.ipynb\" target=\"_parent\"><img src=\"https://colab.research.google.com/assets/colab-badge.svg\" alt=\"Open In Colab\"/></a>"
      ]
    },
    {
      "cell_type": "code",
      "metadata": {
        "id": "pJpOGbNQAWy3",
        "colab_type": "code",
        "colab": {
          "base_uri": "https://localhost:8080/",
          "height": 89
        },
        "outputId": "08101cc6-ddcf-4e76-bdeb-b21f5f38f635"
      },
      "source": [
        "sub = ['국','영','수','정보']\n",
        "for i in range(len(sub)) :\n",
        "  print(i+1,'교시', sub[i])"
      ],
      "execution_count": 1,
      "outputs": [
        {
          "output_type": "stream",
          "text": [
            "1 교시 국\n",
            "2 교시 영\n",
            "3 교시 수\n",
            "4 교시 정보\n"
          ],
          "name": "stdout"
        }
      ]
    },
    {
      "cell_type": "code",
      "metadata": {
        "id": "U_ZpQebLAwzI",
        "colab_type": "code",
        "colab": {
          "base_uri": "https://localhost:8080/",
          "height": 89
        },
        "outputId": "0e2a0eeb-7976-4167-d40b-cb3ecebd4a91"
      },
      "source": [
        "sub = ['국','영','수','정보']\n",
        "for i in range(len(sub)) :\n",
        "  if sub[i] == '수' :\n",
        "   print(i+1,'교시', sub[i],'해당')\n",
        "  else :\n",
        "   print(i+1,'교시', sub[i],'해당없음')"
      ],
      "execution_count": 4,
      "outputs": [
        {
          "output_type": "stream",
          "text": [
            "1 교시 국 해당없음\n",
            "2 교시 영 해당없음\n",
            "3 교시 수 해당\n",
            "4 교시 정보 해당없음\n"
          ],
          "name": "stdout"
        }
      ]
    },
    {
      "cell_type": "code",
      "metadata": {
        "id": "w2jDCeQEBOuU",
        "colab_type": "code",
        "colab": {
          "base_uri": "https://localhost:8080/",
          "height": 89
        },
        "outputId": "43578e0e-12c4-4189-d2ff-48150c6e03bc"
      },
      "source": [
        "for i, val in enumerate(sub) :\n",
        "  print(i+1,val)"
      ],
      "execution_count": 6,
      "outputs": [
        {
          "output_type": "stream",
          "text": [
            "1 국\n",
            "2 영\n",
            "3 수\n",
            "4 정보\n"
          ],
          "name": "stdout"
        }
      ]
    },
    {
      "cell_type": "code",
      "metadata": {
        "id": "ba0C-O9MBWQ6",
        "colab_type": "code",
        "colab": {
          "base_uri": "https://localhost:8080/",
          "height": 197
        },
        "outputId": "4f2c703f-6505-4c1c-8125-2560bdcceea4"
      },
      "source": [
        "for i in range(1,11):\n",
        "  if i % 2==0:\n",
        "    print('파이썬')\n",
        "  else :\n",
        "    print('야~ 나도 파이썬 할 수 있어')"
      ],
      "execution_count": 7,
      "outputs": [
        {
          "output_type": "stream",
          "text": [
            "야~ 나도 파이썬 할 수 있어\n",
            "파이썬\n",
            "야~ 나도 파이썬 할 수 있어\n",
            "파이썬\n",
            "야~ 나도 파이썬 할 수 있어\n",
            "파이썬\n",
            "야~ 나도 파이썬 할 수 있어\n",
            "파이썬\n",
            "야~ 나도 파이썬 할 수 있어\n",
            "파이썬\n"
          ],
          "name": "stdout"
        }
      ]
    }
  ]
}