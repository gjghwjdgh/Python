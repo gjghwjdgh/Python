{
 "cells": [
  {
   "cell_type": "markdown",
   "metadata": {},
   "source": [
    "# format_for_list"
   ]
  },
  {
   "cell_type": "code",
   "execution_count": 1,
   "metadata": {},
   "outputs": [
    {
     "name": "stdout",
     "output_type": "stream",
     "text": [
      "대건 윤기 찬빈\n"
     ]
    }
   ],
   "source": [
    "s = '{} {} {}'\n",
    "f = s.format('대건','윤기','찬빈')\n",
    "print(f)"
   ]
  },
  {
   "cell_type": "code",
   "execution_count": 2,
   "metadata": {},
   "outputs": [
    {
     "name": "stdout",
     "output_type": "stream",
     "text": [
      "대건이는 윤기와 찬빈를 좋아한다\n"
     ]
    }
   ],
   "source": [
    "s = '{}이는 {}와 {}를 좋아한다'\n",
    "f = s.format('대건','윤기','찬빈')\n",
    "print(f)"
   ]
  },
  {
   "cell_type": "code",
   "execution_count": 3,
   "metadata": {},
   "outputs": [
    {
     "name": "stdout",
     "output_type": "stream",
     "text": [
      "대건이는 30312번이고 인천대학교에 진학했다\n"
     ]
    }
   ],
   "source": [
    "s = '{}이는 {}번이고 {}에 진학했다'\n",
    "f = s.format('대건','30312','인천대학교')\n",
    "print(f)"
   ]
  },
  {
   "cell_type": "code",
   "execution_count": 4,
   "metadata": {},
   "outputs": [
    {
     "name": "stdout",
     "output_type": "stream",
     "text": [
      "석찬이는 30103번이고 인천시 연수구에 진학했다\n"
     ]
    }
   ],
   "source": [
    "name = '석찬'\n",
    "num = 30103\n",
    "add = '인천시 연수구'\n",
    "s = '{}이는 {}번이고 {}에 진학했다'\n",
    "f = s.format(name,num,add)\n",
    "print(f)"
   ]
  },
  {
   "cell_type": "code",
   "execution_count": 5,
   "metadata": {
    "scrolled": true
   },
   "outputs": [
    {
     "name": "stdout",
     "output_type": "stream",
     "text": [
      "이름입력 : 허대범\n",
      "학번입력 : 허대범\n",
      "주소입력 : 허대범\n",
      "허대범이는 허대범번이고 허대범에 진학했다\n"
     ]
    }
   ],
   "source": [
    "name = input(\"이름입력 : \")\n",
    "num = input(\"학번입력 : \")\n",
    "add = input(\"주소입력 : \")\n",
    "s = '{}이는 {}번이고 {}에 진학했다'\n",
    "f = s.format(name,num,add)\n",
    "print(f)"
   ]
  },
  {
   "cell_type": "code",
   "execution_count": 6,
   "metadata": {},
   "outputs": [
    {
     "name": "stdout",
     "output_type": "stream",
     "text": [
      "이름 학번 주소 : 허허허 허허헣 허허허허ㅓㅎ\n"
     ]
    }
   ],
   "source": [
    "stu = input('이름 학번 주소 : ').split()\n"
   ]
  },
  {
   "cell_type": "code",
   "execution_count": 7,
   "metadata": {},
   "outputs": [
    {
     "data": {
      "text/plain": [
       "['허허허', '허허헣', '허허허허ㅓㅎ']"
      ]
     },
     "execution_count": 7,
     "metadata": {},
     "output_type": "execute_result"
    }
   ],
   "source": [
    "stu"
   ]
  },
  {
   "cell_type": "code",
   "execution_count": 8,
   "metadata": {},
   "outputs": [
    {
     "name": "stdout",
     "output_type": "stream",
     "text": [
      "허허허이는 허허헣번이고 허허허허ㅓㅎ에 진학했다\n"
     ]
    }
   ],
   "source": [
    "s = '{}이는 {}번이고 {}에 진학했다'\n",
    "f = s.format(stu[0],stu[1],stu[2])\n",
    "print(f)"
   ]
  },
  {
   "cell_type": "markdown",
   "metadata": {},
   "source": [
    "### [문제1] 다음과 같은 양식으로 출력하기\n",
    "- 햄버거/2/4 입력하면\n",
    "- 햄버거 2개 값은 8 달라입니다"
   ]
  },
  {
   "cell_type": "code",
   "execution_count": 9,
   "metadata": {},
   "outputs": [
    {
     "name": "stdout",
     "output_type": "stream",
     "text": [
      "먹을꺼/갯수/가격 : 과자/12/3\n",
      "과자 12개 값은 36달러입니다.\n"
     ]
    }
   ],
   "source": [
    "stu = input('먹을꺼/갯수/가격 : ').split('/')\n",
    "s = '{} {}개 값은 {}달러입니다.'\n",
    "f = s.format(stu[0],stu[1],int(stu[1])*int(stu[2]))\n",
    "print(f)"
   ]
  },
  {
   "cell_type": "code",
   "execution_count": 12,
   "metadata": {},
   "outputs": [
    {
     "name": "stdout",
     "output_type": "stream",
     "text": [
      "20 인천 0.050000\n"
     ]
    }
   ],
   "source": [
    "info = '%d %s %f'\n",
    "pr = info%(20,'인천',0.05)\n",
    "print(pr)"
   ]
  },
  {
   "cell_type": "code",
   "execution_count": null,
   "metadata": {},
   "outputs": [],
   "source": [
    "info = '%d년도 %s여고 %f퍼센트'\n",
    "pr = info%(20,'인천',0.05)\n",
    "print(pr)"
   ]
  },
  {
   "cell_type": "markdown",
   "metadata": {},
   "source": [
    "### [문제2] 햄버거 2개는 8달라이다."
   ]
  },
  {
   "cell_type": "code",
   "execution_count": 17,
   "metadata": {},
   "outputs": [
    {
     "name": "stdout",
     "output_type": "stream",
     "text": [
      "햄버거 2개 8달러\n"
     ]
    }
   ],
   "source": [
    "info = '%s %d개 %d달러'\n",
    "pr = info%(\"햄버거\",2,2*4)\n",
    "print(pr)"
   ]
  },
  {
   "cell_type": "markdown",
   "metadata": {},
   "source": [
    "### List"
   ]
  },
  {
   "cell_type": "code",
   "execution_count": 18,
   "metadata": {},
   "outputs": [
    {
     "data": {
      "text/plain": [
       "[1, 2, 3, 4, 5]"
      ]
     },
     "execution_count": 18,
     "metadata": {},
     "output_type": "execute_result"
    }
   ],
   "source": [
    "arr = [1,2,3,4,5]\n",
    "arr"
   ]
  },
  {
   "cell_type": "code",
   "execution_count": 23,
   "metadata": {},
   "outputs": [
    {
     "data": {
      "text/plain": [
       "['허대범', '허때범', '허때뻠', '허떄뻠']"
      ]
     },
     "execution_count": 23,
     "metadata": {},
     "output_type": "execute_result"
    }
   ],
   "source": [
    "arr = ['허대범','허때범','허때뻠','허떄뻠']\n",
    "arr"
   ]
  },
  {
   "cell_type": "code",
   "execution_count": 21,
   "metadata": {},
   "outputs": [
    {
     "data": {
      "text/plain": [
       "'허대범'"
      ]
     },
     "execution_count": 21,
     "metadata": {},
     "output_type": "execute_result"
    }
   ],
   "source": [
    "arr[0]"
   ]
  },
  {
   "cell_type": "code",
   "execution_count": 25,
   "metadata": {},
   "outputs": [
    {
     "data": {
      "text/plain": [
       "4"
      ]
     },
     "execution_count": 25,
     "metadata": {},
     "output_type": "execute_result"
    }
   ],
   "source": [
    "len(arr)"
   ]
  },
  {
   "cell_type": "code",
   "execution_count": 30,
   "metadata": {},
   "outputs": [
    {
     "name": "stdout",
     "output_type": "stream",
     "text": [
      "허대범\n",
      "허때범\n",
      "허때뻠\n",
      "허떄뻠\n"
     ]
    }
   ],
   "source": [
    "for i in range(len(arr)) :\n",
    "    print(arr[i])"
   ]
  },
  {
   "cell_type": "code",
   "execution_count": 32,
   "metadata": {},
   "outputs": [
    {
     "name": "stdout",
     "output_type": "stream",
     "text": [
      "허대범\n",
      "허때범\n",
      "허때뻠\n",
      "허떄뻠\n"
     ]
    }
   ],
   "source": [
    "for i,val in enumerate(arr) :\n",
    "    print(arr[i])"
   ]
  },
  {
   "cell_type": "code",
   "execution_count": 34,
   "metadata": {},
   "outputs": [
    {
     "name": "stdout",
     "output_type": "stream",
     "text": [
      "1 번 허대범\n",
      "2 번 허때범\n",
      "3 번 허때뻠\n",
      "4 번 허떄뻠\n"
     ]
    }
   ],
   "source": [
    "for i,val in enumerate(arr) :\n",
    "    print(i+1,'번',val)"
   ]
  },
  {
   "cell_type": "markdown",
   "metadata": {},
   "source": [
    "### [문제1] 30부터 50까지 출력해보기"
   ]
  },
  {
   "cell_type": "code",
   "execution_count": 40,
   "metadata": {},
   "outputs": [
    {
     "name": "stdout",
     "output_type": "stream",
     "text": [
      "30\n",
      "31\n",
      "32\n",
      "33\n",
      "34\n",
      "35\n",
      "36\n",
      "37\n",
      "38\n",
      "39\n",
      "40\n",
      "41\n",
      "42\n",
      "43\n",
      "44\n",
      "45\n",
      "46\n",
      "47\n",
      "48\n",
      "49\n",
      "50\n"
     ]
    }
   ],
   "source": [
    "for i in range(30,51) :\n",
    "    print(i)"
   ]
  },
  {
   "cell_type": "markdown",
   "metadata": {},
   "source": [
    "### [문제2] 30부터 50까지 홀수만 출력"
   ]
  },
  {
   "cell_type": "code",
   "execution_count": 47,
   "metadata": {},
   "outputs": [
    {
     "name": "stdout",
     "output_type": "stream",
     "text": [
      "31\n",
      "33\n",
      "35\n",
      "37\n",
      "39\n",
      "41\n",
      "43\n",
      "45\n",
      "47\n",
      "49\n"
     ]
    }
   ],
   "source": [
    "for i in range(30,51) :\n",
    "    if(i%2 != 0) :\n",
    "       print(i)"
   ]
  },
  {
   "cell_type": "markdown",
   "metadata": {},
   "source": [
    "### [문제3] 30부터 50까지 중에서 홀수만 더해서 sum에 넣고 출력"
   ]
  },
  {
   "cell_type": "code",
   "execution_count": 50,
   "metadata": {},
   "outputs": [
    {
     "name": "stdout",
     "output_type": "stream",
     "text": [
      "400\n"
     ]
    }
   ],
   "source": [
    "sum = 0\n",
    "for i in range(30,51) :\n",
    "    if(i%2 != 0) :\n",
    "           sum = sum + i\n",
    "print(sum)"
   ]
  },
  {
   "cell_type": "markdown",
   "metadata": {},
   "source": [
    "### [문제4] \n",
    "- 1부터 10까지 중에서\n",
    "- 짝수이면 파이썬\n",
    "- 홀수이면 야 너도 할수있어 출력"
   ]
  },
  {
   "cell_type": "code",
   "execution_count": 54,
   "metadata": {},
   "outputs": [
    {
     "name": "stdout",
     "output_type": "stream",
     "text": [
      "1 파이썬\n",
      "2 야 너도 할수있어\n",
      "3 파이썬\n",
      "4 야 너도 할수있어\n",
      "5 파이썬\n",
      "6 야 너도 할수있어\n",
      "7 파이썬\n",
      "8 야 너도 할수있어\n",
      "9 파이썬\n",
      "10 야 너도 할수있어\n"
     ]
    }
   ],
   "source": [
    "for i in range(0,10) :\n",
    "    if(i%2 != 0) :\n",
    "           print(i+1,\"야 너도 할수있어\")\n",
    "    else : \n",
    "           print(i+1,\"파이썬\")"
   ]
  }
 ],
 "metadata": {
  "kernelspec": {
   "display_name": "Python 3",
   "language": "python",
   "name": "python3"
  },
  "language_info": {
   "codemirror_mode": {
    "name": "ipython",
    "version": 3
   },
   "file_extension": ".py",
   "mimetype": "text/x-python",
   "name": "python",
   "nbconvert_exporter": "python",
   "pygments_lexer": "ipython3",
   "version": "3.7.4"
  }
 },
 "nbformat": 4,
 "nbformat_minor": 2
}
