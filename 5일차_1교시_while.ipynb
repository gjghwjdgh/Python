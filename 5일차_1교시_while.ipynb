{
  "nbformat": 4,
  "nbformat_minor": 0,
  "metadata": {
    "colab": {
      "name": "5일차_1교시 while.ipynb",
      "provenance": [],
      "authorship_tag": "ABX9TyPRywMYZ3yYBvN7b/MOMK4I",
      "include_colab_link": true
    },
    "kernelspec": {
      "name": "python3",
      "display_name": "Python 3"
    }
  },
  "cells": [
    {
      "cell_type": "markdown",
      "metadata": {
        "id": "view-in-github",
        "colab_type": "text"
      },
      "source": [
        "<a href=\"https://colab.research.google.com/github/gjghwjdgh/Python/blob/master/5%EC%9D%BC%EC%B0%A8_1%EA%B5%90%EC%8B%9C_while.ipynb\" target=\"_parent\"><img src=\"https://colab.research.google.com/assets/colab-badge.svg\" alt=\"Open In Colab\"/></a>"
      ]
    },
    {
      "cell_type": "markdown",
      "metadata": {
        "id": "H1bsunf25c5s",
        "colab_type": "text"
      },
      "source": [
        "# 1.1.while\n",
        "\n",
        "# \n",
        "\n"
      ]
    },
    {
      "cell_type": "code",
      "metadata": {
        "id": "m6-X4W0Y57eh",
        "colab_type": "code",
        "colab": {
          "base_uri": "https://localhost:8080/",
          "height": 35
        },
        "outputId": "36e4b6d7-dd7d-441e-dcc0-1fc94afa7055"
      },
      "source": [
        "for i in range(1,11,2) :\n",
        "  print(i, end=' ')"
      ],
      "execution_count": 2,
      "outputs": [
        {
          "output_type": "stream",
          "text": [
            "1 3 5 7 9 "
          ],
          "name": "stdout"
        }
      ]
    },
    {
      "cell_type": "code",
      "metadata": {
        "id": "Cr5bK2EH6GdH",
        "colab_type": "code",
        "colab": {
          "base_uri": "https://localhost:8080/",
          "height": 35
        },
        "outputId": "0cbbe2df-ec8f-461a-80ca-4ce5034f1754"
      },
      "source": [
        "i=1\n",
        "while(i<11) :\n",
        "  print(i, end=' ')\n",
        "  i+=2"
      ],
      "execution_count": 7,
      "outputs": [
        {
          "output_type": "stream",
          "text": [
            "1 3 5 7 9 "
          ],
          "name": "stdout"
        }
      ]
    },
    {
      "cell_type": "code",
      "metadata": {
        "id": "6pIg9MHz6dBC",
        "colab_type": "code",
        "colab": {
          "base_uri": "https://localhost:8080/",
          "height": 35
        },
        "outputId": "4833c56a-d19e-42d4-fe40-808dd1c86df2"
      },
      "source": [
        "num = list(range(10,110,10))\n",
        "num"
      ],
      "execution_count": 10,
      "outputs": [
        {
          "output_type": "execute_result",
          "data": {
            "text/plain": [
              "[10, 20, 30, 40, 50, 60, 70, 80, 90, 100]"
            ]
          },
          "metadata": {
            "tags": []
          },
          "execution_count": 10
        }
      ]
    },
    {
      "cell_type": "code",
      "metadata": {
        "id": "yqCxMUHu6pjB",
        "colab_type": "code",
        "colab": {
          "base_uri": "https://localhost:8080/",
          "height": 35
        },
        "outputId": "1d94bd6e-9e74-4912-fc3a-05e65b21b09d"
      },
      "source": [
        "a=0\n",
        "while(a<len(num)) :\n",
        "  print(num[a], end= ' ')\n",
        "  a+=1"
      ],
      "execution_count": 15,
      "outputs": [
        {
          "output_type": "stream",
          "text": [
            "10 20 30 40 50 60 70 80 90 100 "
          ],
          "name": "stdout"
        }
      ]
    },
    {
      "cell_type": "code",
      "metadata": {
        "id": "bgpMVzua8YYZ",
        "colab_type": "code",
        "colab": {
          "base_uri": "https://localhost:8080/",
          "height": 35
        },
        "outputId": "d5a3e610-8259-45a4-80c5-3baa064a60cd"
      },
      "source": [
        "lunch = ['라면','햄버거','김밥','돈가스','짜장면']\n",
        "i=0\n",
        "while(i<len(lunch)) :\n",
        "  print(lunch[i],end=' ')\n",
        "  i+=1"
      ],
      "execution_count": 29,
      "outputs": [
        {
          "output_type": "stream",
          "text": [
            "라면 햄버거 김밥 돈가스 짜장면 "
          ],
          "name": "stdout"
        }
      ]
    },
    {
      "cell_type": "code",
      "metadata": {
        "id": "M-PFDbrR8CYn",
        "colab_type": "code",
        "colab": {
          "base_uri": "https://localhost:8080/",
          "height": 35
        },
        "outputId": "b9a48c49-ded8-4ced-caf1-ed11701161a4"
      },
      "source": [
        "lunch.sort()\n",
        "lunch"
      ],
      "execution_count": 30,
      "outputs": [
        {
          "output_type": "execute_result",
          "data": {
            "text/plain": [
              "['김밥', '돈가스', '라면', '짜장면', '햄버거']"
            ]
          },
          "metadata": {
            "tags": []
          },
          "execution_count": 30
        }
      ]
    },
    {
      "cell_type": "code",
      "metadata": {
        "id": "8ptwxwt08bSP",
        "colab_type": "code",
        "colab": {
          "base_uri": "https://localhost:8080/",
          "height": 35
        },
        "outputId": "b92eb8a5-a287-4ad0-997f-89c4fdaf8138"
      },
      "source": [
        "lunch.reverse()\n",
        "lunch"
      ],
      "execution_count": 32,
      "outputs": [
        {
          "output_type": "execute_result",
          "data": {
            "text/plain": [
              "['김밥', '돈가스', '라면', '짜장면', '햄버거']"
            ]
          },
          "metadata": {
            "tags": []
          },
          "execution_count": 32
        }
      ]
    },
    {
      "cell_type": "code",
      "metadata": {
        "id": "10399ifP8qf4",
        "colab_type": "code",
        "colab": {
          "base_uri": "https://localhost:8080/",
          "height": 35
        },
        "outputId": "13c3cffb-f147-4b8b-e7bd-984a29f7fe9f"
      },
      "source": [
        "import random as r\n",
        "r.shuffle(lunch)\n",
        "lunch"
      ],
      "execution_count": 40,
      "outputs": [
        {
          "output_type": "execute_result",
          "data": {
            "text/plain": [
              "['돈가스', '김밥', '라면', '짜장면', '햄버거']"
            ]
          },
          "metadata": {
            "tags": []
          },
          "execution_count": 40
        }
      ]
    },
    {
      "cell_type": "code",
      "metadata": {
        "id": "iYCTDSKc9I1k",
        "colab_type": "code",
        "colab": {
          "base_uri": "https://localhost:8080/",
          "height": 35
        },
        "outputId": "60cce1d4-7701-4aca-c5ee-4b5967a1b1de"
      },
      "source": [
        "i=1\n",
        "while i<=10 :\n",
        "  print(i,end=' ')\n",
        "  i+=1\n",
        "  if i<7 :\n",
        "    continue\n",
        "  break"
      ],
      "execution_count": 41,
      "outputs": [
        {
          "output_type": "stream",
          "text": [
            "1 2 3 4 5 6 "
          ],
          "name": "stdout"
        }
      ]
    },
    {
      "cell_type": "markdown",
      "metadata": {
        "id": "zc1z92FU9f8_",
        "colab_type": "text"
      },
      "source": [
        "# [연습문제1]\n",
        "\n",
        "1. 10부터 10단위 100까지의 num List 만들기 : range()이용\n",
        "2.while문을 이용하여 List 값 출력하기 10/20...\n",
        "3.List 합계와 평균구하기\n",
        "4.continue를 이용하여 50빼고 출력하기\n",
        "5.break를 이용하여 80까지만 출력하기"
      ]
    },
    {
      "cell_type": "code",
      "metadata": {
        "id": "2MpLUOp_998z",
        "colab_type": "code",
        "colab": {
          "base_uri": "https://localhost:8080/",
          "height": 71
        },
        "outputId": "1e0e427f-7f5a-4864-e6e1-89382702569f"
      },
      "source": [
        "num = range(10,110,10)\n",
        "i=0\n",
        "sum = 0\n",
        "while(i<len(num)) :\n",
        "  if int(num[i])== 50 :\n",
        "    i+=1\n",
        "    continue\n",
        "  elif int(num[i]) == 90 :\n",
        "    break\n",
        "  print(num[i],end=' ')\n",
        "  sum += num[i]\n",
        "  i+=1\n",
        "print('\\n합계 = ',sum)\n",
        "print('평균 = ',sum/(i-1))"
      ],
      "execution_count": 87,
      "outputs": [
        {
          "output_type": "stream",
          "text": [
            "10 20 30 40 60 70 80 \n",
            "합계 =  310\n",
            "평균 =  44.285714285714285\n"
          ],
          "name": "stdout"
        }
      ]
    },
    {
      "cell_type": "markdown",
      "metadata": {
        "id": "__kPFpRPCvmi",
        "colab_type": "text"
      },
      "source": [
        "[연습문제]입력값이 exit이면 멈추고 그렇지 않으면 계속 입력 받고 출력받기\n"
      ]
    },
    {
      "cell_type": "code",
      "metadata": {
        "id": "1aPMRd9IBlSC",
        "colab_type": "code",
        "colab": {
          "base_uri": "https://localhost:8080/",
          "height": 89
        },
        "outputId": "d106251c-c1dc-4431-8250-e206b369e2d8"
      },
      "source": [
        "while echo!='exit' :\n",
        "  echo = input('입력 : ')\n",
        "  print('입력값 :',echo)\n"
      ],
      "execution_count": 92,
      "outputs": [
        {
          "output_type": "stream",
          "text": [
            "입력 : gi\n",
            "입력값 : gi\n",
            "입력 : exit\n",
            "입력값 : exit\n"
          ],
          "name": "stdout"
        }
      ]
    },
    {
      "cell_type": "markdown",
      "metadata": {
        "id": "AWG0RJgtIqAE",
        "colab_type": "text"
      },
      "source": [
        "**[연습문제]**\n",
        "\n",
        "\n",
        "---\n",
        "\n",
        "\n",
        "id가 같으면 회원입니다.\n",
        "그렇지 않으면 회원가입\n",
        "* id = insungsan\n"
      ]
    },
    {
      "cell_type": "code",
      "metadata": {
        "id": "_GX57F62JCoF",
        "colab_type": "code",
        "colab": {
          "base_uri": "https://localhost:8080/",
          "height": 53
        },
        "outputId": "13e1c646-f09e-424c-c532-3d09ec97bcab"
      },
      "source": [
        "id = input('입력 : ')\n",
        "if id != 'insungsan' : \n",
        "  print('회원가입 하세요.')\n",
        "else :\n",
        " print('회원입니다.')"
      ],
      "execution_count": 95,
      "outputs": [
        {
          "output_type": "stream",
          "text": [
            "입력 : insungsan\n",
            "회원입니다.\n"
          ],
          "name": "stdout"
        }
      ]
    }
  ]
}