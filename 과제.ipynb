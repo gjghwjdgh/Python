{
  "nbformat": 4,
  "nbformat_minor": 0,
  "metadata": {
    "colab": {
      "name": "과제.ipynb",
      "provenance": [],
      "authorship_tag": "ABX9TyNRjeHtw8UKN+etl5N0Pv0a",
      "include_colab_link": true
    },
    "kernelspec": {
      "name": "python3",
      "display_name": "Python 3"
    }
  },
  "cells": [
    {
      "cell_type": "markdown",
      "metadata": {
        "id": "view-in-github",
        "colab_type": "text"
      },
      "source": [
        "<a href=\"https://colab.research.google.com/github/gjghwjdgh/Python/blob/master/%EA%B3%BC%EC%A0%9C.ipynb\" target=\"_parent\"><img src=\"https://colab.research.google.com/assets/colab-badge.svg\" alt=\"Open In Colab\"/></a>"
      ]
    },
    {
      "cell_type": "code",
      "metadata": {
        "id": "KrL_05GpJ3WX",
        "colab_type": "code",
        "outputId": "ecf27c6e-e87e-4dfb-88f3-dc56353d86e7",
        "colab": {
          "base_uri": "https://localhost:8080/",
          "height": 107
        }
      },
      "source": [
        "jumsu = [100,75,67,45,80]\n",
        "for i, val in enumerate(jumsu) :\n",
        "  if val >= 60 :\n",
        "    print(\"%d 번 학생은 합격입니다.\"%(i+1))\n",
        "  else : \n",
        "    print(\"%d 번 학생은 불합격입니다.\"%(i+1))"
      ],
      "execution_count": 0,
      "outputs": [
        {
          "output_type": "stream",
          "text": [
            "1 번 학생은 합격입니다.\n",
            "2 번 학생은 합격입니다.\n",
            "3 번 학생은 합격입니다.\n",
            "4 번 학생은 불합격입니다.\n",
            "5 번 학생은 합격입니다.\n"
          ],
          "name": "stdout"
        }
      ]
    },
    {
      "cell_type": "code",
      "metadata": {
        "id": "rMMX0V5vKVtL",
        "colab_type": "code",
        "colab": {}
      },
      "source": [
        "import pandas as pd"
      ],
      "execution_count": 0,
      "outputs": []
    },
    {
      "cell_type": "code",
      "metadata": {
        "id": "k_-R4qdFKxcx",
        "colab_type": "code",
        "colab": {}
      },
      "source": [
        "gu = [['서울',100,23,5],['부산',120,30,1],['인천',123,40,6],['광주',40,1,20],['대전',70,20,2]]\n",
        "df = pd.DataFrame(gu)"
      ],
      "execution_count": 0,
      "outputs": []
    },
    {
      "cell_type": "code",
      "metadata": {
        "id": "vaXKtoKtLfYL",
        "colab_type": "code",
        "outputId": "9ac46955-9758-4767-b28f-3905c64bd8be",
        "colab": {
          "base_uri": "https://localhost:8080/",
          "height": 204
        }
      },
      "source": [
        "df.columns=['지역','병상','확진자','사망자']\n",
        "df.index=[1,2,3,4,5]\n",
        "df"
      ],
      "execution_count": 0,
      "outputs": [
        {
          "output_type": "execute_result",
          "data": {
            "text/html": [
              "<div>\n",
              "<style scoped>\n",
              "    .dataframe tbody tr th:only-of-type {\n",
              "        vertical-align: middle;\n",
              "    }\n",
              "\n",
              "    .dataframe tbody tr th {\n",
              "        vertical-align: top;\n",
              "    }\n",
              "\n",
              "    .dataframe thead th {\n",
              "        text-align: right;\n",
              "    }\n",
              "</style>\n",
              "<table border=\"1\" class=\"dataframe\">\n",
              "  <thead>\n",
              "    <tr style=\"text-align: right;\">\n",
              "      <th></th>\n",
              "      <th>지역</th>\n",
              "      <th>병상</th>\n",
              "      <th>확진자</th>\n",
              "      <th>사망자</th>\n",
              "    </tr>\n",
              "  </thead>\n",
              "  <tbody>\n",
              "    <tr>\n",
              "      <th>1</th>\n",
              "      <td>서울</td>\n",
              "      <td>100</td>\n",
              "      <td>23</td>\n",
              "      <td>5</td>\n",
              "    </tr>\n",
              "    <tr>\n",
              "      <th>2</th>\n",
              "      <td>부산</td>\n",
              "      <td>120</td>\n",
              "      <td>30</td>\n",
              "      <td>1</td>\n",
              "    </tr>\n",
              "    <tr>\n",
              "      <th>3</th>\n",
              "      <td>인천</td>\n",
              "      <td>123</td>\n",
              "      <td>40</td>\n",
              "      <td>6</td>\n",
              "    </tr>\n",
              "    <tr>\n",
              "      <th>4</th>\n",
              "      <td>광주</td>\n",
              "      <td>40</td>\n",
              "      <td>1</td>\n",
              "      <td>20</td>\n",
              "    </tr>\n",
              "    <tr>\n",
              "      <th>5</th>\n",
              "      <td>대전</td>\n",
              "      <td>70</td>\n",
              "      <td>20</td>\n",
              "      <td>2</td>\n",
              "    </tr>\n",
              "  </tbody>\n",
              "</table>\n",
              "</div>"
            ],
            "text/plain": [
              "   지역   병상  확진자  사망자\n",
              "1  서울  100   23    5\n",
              "2  부산  120   30    1\n",
              "3  인천  123   40    6\n",
              "4  광주   40    1   20\n",
              "5  대전   70   20    2"
            ]
          },
          "metadata": {
            "tags": []
          },
          "execution_count": 11
        }
      ]
    }
  ]
}