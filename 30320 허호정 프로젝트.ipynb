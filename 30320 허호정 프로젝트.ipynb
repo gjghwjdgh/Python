{
 "cells": [
  {
   "cell_type": "markdown",
   "metadata": {},
   "source": [
    "# 30320 허호정"
   ]
  },
  {
   "cell_type": "markdown",
   "metadata": {},
   "source": [
    "## 주제 : 물놀이 안전사고"
   ]
  },
  {
   "cell_type": "markdown",
   "metadata": {},
   "source": [
    "## 출처 :https://www.data.go.kr/data/15025381/fileData.do"
   ]
  },
  {
   "cell_type": "markdown",
   "metadata": {},
   "source": [
    "- 분류 체계 :\t공공질서및안전 - 안전관리\n",
    "- 제공 기관 : 행정안전부\n",
    "- 등록 날짜 : 2018-07-30\n",
    "- 수정된 날짜 : 2019-12-20"
   ]
  },
  {
   "cell_type": "code",
   "execution_count": 1,
   "metadata": {},
   "outputs": [],
   "source": [
    "import pandas as pd\n",
    "import matplotlib.pyplot as plt\n",
    "from matplotlib import rc"
   ]
  },
  {
   "cell_type": "code",
   "execution_count": 2,
   "metadata": {},
   "outputs": [],
   "source": [
    "path = r'C:\\Users\\user\\Desktop\\python\\water.csv'"
   ]
  },
  {
   "cell_type": "code",
   "execution_count": 3,
   "metadata": {},
   "outputs": [],
   "source": [
    "df = pd.read_csv(path,encoding='cp949')"
   ]
  },
  {
   "cell_type": "code",
   "execution_count": 4,
   "metadata": {},
   "outputs": [
    {
     "data": {
      "text/html": [
       "<div>\n",
       "<style scoped>\n",
       "    .dataframe tbody tr th:only-of-type {\n",
       "        vertical-align: middle;\n",
       "    }\n",
       "\n",
       "    .dataframe tbody tr th {\n",
       "        vertical-align: top;\n",
       "    }\n",
       "\n",
       "    .dataframe thead th {\n",
       "        text-align: right;\n",
       "    }\n",
       "</style>\n",
       "<table border=\"1\" class=\"dataframe\">\n",
       "  <thead>\n",
       "    <tr style=\"text-align: right;\">\n",
       "      <th></th>\n",
       "      <th>연도별</th>\n",
       "      <th>사고(건)</th>\n",
       "      <th>사망(명)</th>\n",
       "      <th>실종(명)</th>\n",
       "    </tr>\n",
       "  </thead>\n",
       "  <tbody>\n",
       "    <tr>\n",
       "      <td>0</td>\n",
       "      <td>2007</td>\n",
       "      <td>131</td>\n",
       "      <td>124</td>\n",
       "      <td>19.0</td>\n",
       "    </tr>\n",
       "    <tr>\n",
       "      <td>1</td>\n",
       "      <td>2008</td>\n",
       "      <td>141</td>\n",
       "      <td>155</td>\n",
       "      <td>NaN</td>\n",
       "    </tr>\n",
       "    <tr>\n",
       "      <td>2</td>\n",
       "      <td>2009</td>\n",
       "      <td>67</td>\n",
       "      <td>68</td>\n",
       "      <td>NaN</td>\n",
       "    </tr>\n",
       "    <tr>\n",
       "      <td>3</td>\n",
       "      <td>2010</td>\n",
       "      <td>53</td>\n",
       "      <td>58</td>\n",
       "      <td>NaN</td>\n",
       "    </tr>\n",
       "    <tr>\n",
       "      <td>4</td>\n",
       "      <td>2011</td>\n",
       "      <td>46</td>\n",
       "      <td>52</td>\n",
       "      <td>NaN</td>\n",
       "    </tr>\n",
       "    <tr>\n",
       "      <td>5</td>\n",
       "      <td>2012</td>\n",
       "      <td>25</td>\n",
       "      <td>25</td>\n",
       "      <td>NaN</td>\n",
       "    </tr>\n",
       "    <tr>\n",
       "      <td>6</td>\n",
       "      <td>2013</td>\n",
       "      <td>37</td>\n",
       "      <td>37</td>\n",
       "      <td>NaN</td>\n",
       "    </tr>\n",
       "    <tr>\n",
       "      <td>7</td>\n",
       "      <td>2014</td>\n",
       "      <td>23</td>\n",
       "      <td>24</td>\n",
       "      <td>NaN</td>\n",
       "    </tr>\n",
       "    <tr>\n",
       "      <td>8</td>\n",
       "      <td>2015</td>\n",
       "      <td>33</td>\n",
       "      <td>36</td>\n",
       "      <td>NaN</td>\n",
       "    </tr>\n",
       "    <tr>\n",
       "      <td>9</td>\n",
       "      <td>2016</td>\n",
       "      <td>34</td>\n",
       "      <td>35</td>\n",
       "      <td>NaN</td>\n",
       "    </tr>\n",
       "    <tr>\n",
       "      <td>10</td>\n",
       "      <td>2017</td>\n",
       "      <td>36</td>\n",
       "      <td>37</td>\n",
       "      <td>NaN</td>\n",
       "    </tr>\n",
       "    <tr>\n",
       "      <td>11</td>\n",
       "      <td>2018</td>\n",
       "      <td>32</td>\n",
       "      <td>33</td>\n",
       "      <td>NaN</td>\n",
       "    </tr>\n",
       "    <tr>\n",
       "      <td>12</td>\n",
       "      <td>2019</td>\n",
       "      <td>27</td>\n",
       "      <td>28</td>\n",
       "      <td>NaN</td>\n",
       "    </tr>\n",
       "  </tbody>\n",
       "</table>\n",
       "</div>"
      ],
      "text/plain": [
       "     연도별  사고(건)  사망(명)  실종(명)\n",
       "0   2007    131    124   19.0\n",
       "1   2008    141    155    NaN\n",
       "2   2009     67     68    NaN\n",
       "3   2010     53     58    NaN\n",
       "4   2011     46     52    NaN\n",
       "5   2012     25     25    NaN\n",
       "6   2013     37     37    NaN\n",
       "7   2014     23     24    NaN\n",
       "8   2015     33     36    NaN\n",
       "9   2016     34     35    NaN\n",
       "10  2017     36     37    NaN\n",
       "11  2018     32     33    NaN\n",
       "12  2019     27     28    NaN"
      ]
     },
     "execution_count": 4,
     "metadata": {},
     "output_type": "execute_result"
    }
   ],
   "source": [
    "df"
   ]
  },
  {
   "cell_type": "code",
   "execution_count": 17,
   "metadata": {},
   "outputs": [],
   "source": [
    "t = df\n",
    "a = t[\"연도별\"]\n",
    "w = t[\"사고(건)\"]\n",
    "c = t[\"사망(명)\"]\n",
    "u = t[\"실종(명)\"]"
   ]
  },
  {
   "cell_type": "code",
   "execution_count": 19,
   "metadata": {},
   "outputs": [
    {
     "data": {
      "text/plain": [
       "(0     2007\n",
       " 1     2008\n",
       " 2     2009\n",
       " 3     2010\n",
       " 4     2011\n",
       " 5     2012\n",
       " 6     2013\n",
       " 7     2014\n",
       " 8     2015\n",
       " 9     2016\n",
       " 10    2017\n",
       " 11    2018\n",
       " 12    2019\n",
       " Name: 연도별, dtype: int64, 0     131\n",
       " 1     141\n",
       " 2      67\n",
       " 3      53\n",
       " 4      46\n",
       " 5      25\n",
       " 6      37\n",
       " 7      23\n",
       " 8      33\n",
       " 9      34\n",
       " 10     36\n",
       " 11     32\n",
       " 12     27\n",
       " Name: 사고(건), dtype: int64, 0     124\n",
       " 1     155\n",
       " 2      68\n",
       " 3      58\n",
       " 4      52\n",
       " 5      25\n",
       " 6      37\n",
       " 7      24\n",
       " 8      36\n",
       " 9      35\n",
       " 10     37\n",
       " 11     33\n",
       " 12     28\n",
       " Name: 사망(명), dtype: int64, 0     19.0\n",
       " 1      NaN\n",
       " 2      NaN\n",
       " 3      NaN\n",
       " 4      NaN\n",
       " 5      NaN\n",
       " 6      NaN\n",
       " 7      NaN\n",
       " 8      NaN\n",
       " 9      NaN\n",
       " 10     NaN\n",
       " 11     NaN\n",
       " 12     NaN\n",
       " Name: 실종(명), dtype: float64)"
      ]
     },
     "execution_count": 19,
     "metadata": {},
     "output_type": "execute_result"
    }
   ],
   "source": [
    "a,w,c, u"
   ]
  },
  {
   "cell_type": "code",
   "execution_count": 22,
   "metadata": {},
   "outputs": [
    {
     "data": {
      "text/plain": [
       "<matplotlib.legend.Legend at 0x1e1cc613bc8>"
      ]
     },
     "execution_count": 22,
     "metadata": {},
     "output_type": "execute_result"
    },
    {
     "data": {
      "image/png": "[encoded data removed]",
      "text/plain": [
       "<Figure size 432x288 with 1 Axes>"
      ]
     },
     "metadata": {
      "needs_background": "light"
     },
     "output_type": "display_data"
    }
   ],
   "source": [
    "rc('font',family = \"gulim\")\n",
    "plt.plot(a,w, \"--x\",color = \"black\",label = \"사건(건)\")\n",
    "plt.ylabel(\"사고(건)\")\n",
    "plt.xlabel(\"연도별\")\n",
    "plt.title(\"연도별 사고(건)\")\n",
    "plt.legend(\"사고(건)\")"
   ]
  },
  {
   "cell_type": "markdown",
   "metadata": {},
   "source": [
    "- 사건이 일어나는 횟수가 2008년 이후로 크게 줄어들었다. \n",
    "- 우리나라의 국민들이 2008년을 기준으로 물놀이 안전사고를 제대로 인식하고 조심하고 있다는게 분석된다.\n",
    "- http://www.anjunj.com/news/articleView.html?idxno=5473\n",
    "- 위에 있는 기사내용을 보면 2009년부터 시작된 정부의 ‘여름철 물놀이 인명사고 예방 사업’에 따른 결실로 분석된다. 안전관리요원을 집중 배치하고, 구명조끼·위험표지판 등 안전시설 확충에 적극 나선 것이 큰 효과를 봤다는 것이 정부의 설명이다.'라는 내용이 적혀있고 이를 통해 2009년부터 물놀이 사고가 줄어든 이유를 알아 낼 수 있다."
   ]
  },
  {
   "cell_type": "code",
   "execution_count": 24,
   "metadata": {},
   "outputs": [
    {
     "data": {
      "text/plain": [
       "<matplotlib.legend.Legend at 0x1e1cc6f7588>"
      ]
     },
     "execution_count": 24,
     "metadata": {},
     "output_type": "execute_result"
    },
    {
     "data": {
      "image/png": "[encoded data removed]",
      "text/plain": [
       "<Figure size 432x288 with 1 Axes>"
      ]
     },
     "metadata": {
      "needs_background": "light"
     },
     "output_type": "display_data"
    }
   ],
   "source": [
    "rc('font',family = \"gulim\")\n",
    "plt.plot(a,c, \"--o\",color = \"cyan\",label = \"사망(명)\")\n",
    "plt.ylabel(\"사망(명)\")\n",
    "plt.xlabel(\"연도별\")\n",
    "plt.title(\"연도별 사망(명)\")\n",
    "plt.legend()"
   ]
  },
  {
   "cell_type": "markdown",
   "metadata": {},
   "source": [
    "- 물놀이를 할때 안전사고가 일어나지 않도록 잘 관리하면 그만큼 사망자도 잘 발생하지 않은 것으로 분석된다. \n",
    "- 물놀이 안전사고의 사망자 그래프는 사건의 그래프와 크게 다르지 않다는 것이 분석된다. 그 예로 2008년부터 이후부터 사망자수가 줄어들고 있다."
   ]
  }
 ],
 "metadata": {
  "kernelspec": {
   "display_name": "Python 3",
   "language": "python",
   "name": "python3"
  },
  "language_info": {
   "codemirror_mode": {
    "name": "ipython",
    "version": 3
   },
   "file_extension": ".py",
   "mimetype": "text/x-python",
   "name": "python",
   "nbconvert_exporter": "python",
   "pygments_lexer": "ipython3",
   "version": "3.7.4"
  }
 },
 "nbformat": 4,
 "nbformat_minor": 2
}
