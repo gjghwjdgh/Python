{
  "nbformat": 4,
  "nbformat_minor": 0,
  "metadata": {
    "colab": {
      "name": "과제 히히.ipynb",
      "provenance": [],
      "collapsed_sections": [],
      "mount_file_id": "1n9M8XSQQ3vj3i_WA-H9KQh3yQphzzxI3",
      "authorship_tag": "ABX9TyMz5TyY/sDG2+4yQ8Q4XaV5",
      "include_colab_link": true
    },
    "kernelspec": {
      "name": "python3",
      "display_name": "Python 3"
    }
  },
  "cells": [
    {
      "cell_type": "markdown",
      "metadata": {
        "id": "view-in-github",
        "colab_type": "text"
      },
      "source": [
        "<a href=\"https://colab.research.google.com/github/gjghwjdgh/Python/blob/master/%EA%B3%BC%EC%A0%9C_%ED%9E%88%ED%9E%88.ipynb\" target=\"_parent\"><img src=\"https://colab.research.google.com/assets/colab-badge.svg\" alt=\"Open In Colab\"/></a>"
      ]
    },
    {
      "cell_type": "code",
      "metadata": {
        "id": "3dsOZbuwnT7Y",
        "colab_type": "code",
        "colab": {}
      },
      "source": [
        "import pandas as pd\n",
        "import glob\n",
        "import matplotlib.pyplot as plt"
      ],
      "execution_count": 0,
      "outputs": []
    },
    {
      "cell_type": "code",
      "metadata": {
        "id": "Bg6NdxV8nnSG",
        "colab_type": "code",
        "colab": {
          "base_uri": "https://localhost:8080/",
          "height": 89
        },
        "outputId": "39788242-541c-4dc4-80f2-5e2ff079dd8b"
      },
      "source": [
        "path = '/content/sample_data/'\n",
        "for FileName in glob.glob(path+'*.csv'):\n",
        "  print(FileName)"
      ],
      "execution_count": 11,
      "outputs": [
        {
          "output_type": "stream",
          "text": [
            "/content/sample_data/california_housing_test.csv\n",
            "/content/sample_data/mnist_train_small.csv\n",
            "/content/sample_data/california_housing_train.csv\n",
            "/content/sample_data/mnist_test.csv\n"
          ],
          "name": "stdout"
        }
      ]
    },
    {
      "cell_type": "code",
      "metadata": {
        "id": "SXw_rK4rnwtn",
        "colab_type": "code",
        "colab": {}
      },
      "source": [
        "files = '/content/drive/My Drive/0_Dream/Data/score/'\n",
        "files_list = glob.glob(files+'*.csv')"
      ],
      "execution_count": 0,
      "outputs": []
    },
    {
      "cell_type": "code",
      "metadata": {
        "id": "vOG_jMMsoKut",
        "colab_type": "code",
        "colab": {
          "base_uri": "https://localhost:8080/",
          "height": 197
        },
        "outputId": "132cf7b4-0699-4b26-c0cb-6cf5ba48aef8"
      },
      "source": [
        "files_list"
      ],
      "execution_count": 15,
      "outputs": [
        {
          "output_type": "execute_result",
          "data": {
            "text/plain": [
              "['/content/drive/My Drive/0_Dream/Data/score/B 학교출신 지원자.csv',\n",
              " '/content/drive/My Drive/0_Dream/Data/score/A 학교출신 지원자.csv',\n",
              " '/content/drive/My Drive/0_Dream/Data/score/C 학교출신 지원자.csv',\n",
              " '/content/drive/My Drive/0_Dream/Data/score/F 학교출신 지원자.csv',\n",
              " '/content/drive/My Drive/0_Dream/Data/score/D 학교출신 지원자.csv',\n",
              " '/content/drive/My Drive/0_Dream/Data/score/E 학교출신 지원자.csv',\n",
              " '/content/drive/My Drive/0_Dream/Data/score/G 학교출신 지원자.csv',\n",
              " '/content/drive/My Drive/0_Dream/Data/score/H 학교출신 지원자.csv',\n",
              " '/content/drive/My Drive/0_Dream/Data/score/J 학교출신 지원자.csv',\n",
              " '/content/drive/My Drive/0_Dream/Data/score/I 학교출신 지원자.csv']"
            ]
          },
          "metadata": {
            "tags": []
          },
          "execution_count": 15
        }
      ]
    },
    {
      "cell_type": "code",
      "metadata": {
        "id": "wbvqzxoCo2Jn",
        "colab_type": "code",
        "colab": {}
      },
      "source": [
        "A_data = '/content/drive/My Drive/0_Dream/Data/score/B 학교출신 지원자.csv'"
      ],
      "execution_count": 0,
      "outputs": []
    },
    {
      "cell_type": "code",
      "metadata": {
        "id": "olqjLrESpTg5",
        "colab_type": "code",
        "colab": {
          "base_uri": "https://localhost:8080/",
          "height": 855
        },
        "outputId": "d182c3ac-a356-4264-9569-283586505872"
      },
      "source": [
        "df=pd.read_csv(A_data, encoding='cp949')\n",
        "df"
      ],
      "execution_count": 22,
      "outputs": [
        {
          "output_type": "execute_result",
          "data": {
            "text/html": [
              "<div>\n",
              "<style scoped>\n",
              "    .dataframe tbody tr th:only-of-type {\n",
              "        vertical-align: middle;\n",
              "    }\n",
              "\n",
              "    .dataframe tbody tr th {\n",
              "        vertical-align: top;\n",
              "    }\n",
              "\n",
              "    .dataframe thead th {\n",
              "        text-align: right;\n",
              "    }\n",
              "</style>\n",
              "<table border=\"1\" class=\"dataframe\">\n",
              "  <thead>\n",
              "    <tr style=\"text-align: right;\">\n",
              "      <th></th>\n",
              "      <th>출신고교</th>\n",
              "      <th>학번</th>\n",
              "      <th>이름</th>\n",
              "      <th>국어</th>\n",
              "      <th>수학</th>\n",
              "      <th>영어</th>\n",
              "      <th>과탐1</th>\n",
              "      <th>과탐2</th>\n",
              "    </tr>\n",
              "  </thead>\n",
              "  <tbody>\n",
              "    <tr>\n",
              "      <th>0</th>\n",
              "      <td>B</td>\n",
              "      <td>30103</td>\n",
              "      <td>곽뱅어</td>\n",
              "      <td>91</td>\n",
              "      <td>50</td>\n",
              "      <td>82</td>\n",
              "      <td>27</td>\n",
              "      <td>37</td>\n",
              "    </tr>\n",
              "    <tr>\n",
              "      <th>1</th>\n",
              "      <td>B</td>\n",
              "      <td>30122</td>\n",
              "      <td>성붕어</td>\n",
              "      <td>70</td>\n",
              "      <td>32</td>\n",
              "      <td>64</td>\n",
              "      <td>20</td>\n",
              "      <td>25</td>\n",
              "    </tr>\n",
              "    <tr>\n",
              "      <th>2</th>\n",
              "      <td>B</td>\n",
              "      <td>30130</td>\n",
              "      <td>차우럭</td>\n",
              "      <td>87</td>\n",
              "      <td>77</td>\n",
              "      <td>91</td>\n",
              "      <td>34</td>\n",
              "      <td>28</td>\n",
              "    </tr>\n",
              "    <tr>\n",
              "      <th>3</th>\n",
              "      <td>B</td>\n",
              "      <td>30204</td>\n",
              "      <td>주잉어</td>\n",
              "      <td>69</td>\n",
              "      <td>44</td>\n",
              "      <td>84</td>\n",
              "      <td>19</td>\n",
              "      <td>24</td>\n",
              "    </tr>\n",
              "    <tr>\n",
              "      <th>4</th>\n",
              "      <td>B</td>\n",
              "      <td>30205</td>\n",
              "      <td>우뽈락</td>\n",
              "      <td>84</td>\n",
              "      <td>54</td>\n",
              "      <td>54</td>\n",
              "      <td>41</td>\n",
              "      <td>39</td>\n",
              "    </tr>\n",
              "    <tr>\n",
              "      <th>5</th>\n",
              "      <td>B</td>\n",
              "      <td>30214</td>\n",
              "      <td>김멍게</td>\n",
              "      <td>85</td>\n",
              "      <td>75</td>\n",
              "      <td>88</td>\n",
              "      <td>18</td>\n",
              "      <td>20</td>\n",
              "    </tr>\n",
              "    <tr>\n",
              "      <th>6</th>\n",
              "      <td>B</td>\n",
              "      <td>30215</td>\n",
              "      <td>신해삼</td>\n",
              "      <td>81</td>\n",
              "      <td>73</td>\n",
              "      <td>67</td>\n",
              "      <td>25</td>\n",
              "      <td>23</td>\n",
              "    </tr>\n",
              "    <tr>\n",
              "      <th>7</th>\n",
              "      <td>B</td>\n",
              "      <td>30219</td>\n",
              "      <td>임방어</td>\n",
              "      <td>37</td>\n",
              "      <td>18</td>\n",
              "      <td>53</td>\n",
              "      <td>18</td>\n",
              "      <td>18</td>\n",
              "    </tr>\n",
              "    <tr>\n",
              "      <th>8</th>\n",
              "      <td>B</td>\n",
              "      <td>30307</td>\n",
              "      <td>전연어</td>\n",
              "      <td>90</td>\n",
              "      <td>50</td>\n",
              "      <td>50</td>\n",
              "      <td>39</td>\n",
              "      <td>43</td>\n",
              "    </tr>\n",
              "    <tr>\n",
              "      <th>9</th>\n",
              "      <td>B</td>\n",
              "      <td>30310</td>\n",
              "      <td>홍아귀</td>\n",
              "      <td>82</td>\n",
              "      <td>78</td>\n",
              "      <td>72</td>\n",
              "      <td>14</td>\n",
              "      <td>20</td>\n",
              "    </tr>\n",
              "    <tr>\n",
              "      <th>10</th>\n",
              "      <td>B</td>\n",
              "      <td>30316</td>\n",
              "      <td>유장어</td>\n",
              "      <td>92</td>\n",
              "      <td>72</td>\n",
              "      <td>91</td>\n",
              "      <td>40</td>\n",
              "      <td>41</td>\n",
              "    </tr>\n",
              "    <tr>\n",
              "      <th>11</th>\n",
              "      <td>B</td>\n",
              "      <td>30318</td>\n",
              "      <td>진전어</td>\n",
              "      <td>66</td>\n",
              "      <td>75</td>\n",
              "      <td>43</td>\n",
              "      <td>24</td>\n",
              "      <td>23</td>\n",
              "    </tr>\n",
              "    <tr>\n",
              "      <th>12</th>\n",
              "      <td>B</td>\n",
              "      <td>30413</td>\n",
              "      <td>나홍어</td>\n",
              "      <td>67</td>\n",
              "      <td>27</td>\n",
              "      <td>50</td>\n",
              "      <td>12</td>\n",
              "      <td>18</td>\n",
              "    </tr>\n",
              "    <tr>\n",
              "      <th>13</th>\n",
              "      <td>B</td>\n",
              "      <td>30415</td>\n",
              "      <td>김거위</td>\n",
              "      <td>65</td>\n",
              "      <td>55</td>\n",
              "      <td>45</td>\n",
              "      <td>14</td>\n",
              "      <td>23</td>\n",
              "    </tr>\n",
              "    <tr>\n",
              "      <th>14</th>\n",
              "      <td>B</td>\n",
              "      <td>30419</td>\n",
              "      <td>정타조</td>\n",
              "      <td>100</td>\n",
              "      <td>85</td>\n",
              "      <td>85</td>\n",
              "      <td>46</td>\n",
              "      <td>46</td>\n",
              "    </tr>\n",
              "    <tr>\n",
              "      <th>15</th>\n",
              "      <td>B</td>\n",
              "      <td>30503</td>\n",
              "      <td>박매</td>\n",
              "      <td>98</td>\n",
              "      <td>62</td>\n",
              "      <td>79</td>\n",
              "      <td>39</td>\n",
              "      <td>41</td>\n",
              "    </tr>\n",
              "    <tr>\n",
              "      <th>16</th>\n",
              "      <td>B</td>\n",
              "      <td>30513</td>\n",
              "      <td>최황새</td>\n",
              "      <td>82</td>\n",
              "      <td>72</td>\n",
              "      <td>50</td>\n",
              "      <td>20</td>\n",
              "      <td>30</td>\n",
              "    </tr>\n",
              "    <tr>\n",
              "      <th>17</th>\n",
              "      <td>B</td>\n",
              "      <td>30517</td>\n",
              "      <td>이닭</td>\n",
              "      <td>75</td>\n",
              "      <td>85</td>\n",
              "      <td>81</td>\n",
              "      <td>36</td>\n",
              "      <td>21</td>\n",
              "    </tr>\n",
              "    <tr>\n",
              "      <th>18</th>\n",
              "      <td>B</td>\n",
              "      <td>30518</td>\n",
              "      <td>강제비</td>\n",
              "      <td>64</td>\n",
              "      <td>59</td>\n",
              "      <td>86</td>\n",
              "      <td>21</td>\n",
              "      <td>19</td>\n",
              "    </tr>\n",
              "    <tr>\n",
              "      <th>19</th>\n",
              "      <td>B</td>\n",
              "      <td>30606</td>\n",
              "      <td>조멧새</td>\n",
              "      <td>84</td>\n",
              "      <td>55</td>\n",
              "      <td>86</td>\n",
              "      <td>22</td>\n",
              "      <td>29</td>\n",
              "    </tr>\n",
              "    <tr>\n",
              "      <th>20</th>\n",
              "      <td>B</td>\n",
              "      <td>30611</td>\n",
              "      <td>윤원앙</td>\n",
              "      <td>84</td>\n",
              "      <td>70</td>\n",
              "      <td>54</td>\n",
              "      <td>38</td>\n",
              "      <td>30</td>\n",
              "    </tr>\n",
              "    <tr>\n",
              "      <th>21</th>\n",
              "      <td>B</td>\n",
              "      <td>30619</td>\n",
              "      <td>장잉꼬</td>\n",
              "      <td>91</td>\n",
              "      <td>69</td>\n",
              "      <td>76</td>\n",
              "      <td>34</td>\n",
              "      <td>37</td>\n",
              "    </tr>\n",
              "    <tr>\n",
              "      <th>22</th>\n",
              "      <td>B</td>\n",
              "      <td>30627</td>\n",
              "      <td>임솔개</td>\n",
              "      <td>37</td>\n",
              "      <td>9</td>\n",
              "      <td>10</td>\n",
              "      <td>20</td>\n",
              "      <td>15</td>\n",
              "    </tr>\n",
              "    <tr>\n",
              "      <th>23</th>\n",
              "      <td>B</td>\n",
              "      <td>30704</td>\n",
              "      <td>심황태</td>\n",
              "      <td>79</td>\n",
              "      <td>77</td>\n",
              "      <td>91</td>\n",
              "      <td>39</td>\n",
              "      <td>47</td>\n",
              "    </tr>\n",
              "    <tr>\n",
              "      <th>24</th>\n",
              "      <td>B</td>\n",
              "      <td>30710</td>\n",
              "      <td>노도미</td>\n",
              "      <td>77</td>\n",
              "      <td>17</td>\n",
              "      <td>47</td>\n",
              "      <td>41</td>\n",
              "      <td>39</td>\n",
              "    </tr>\n",
              "    <tr>\n",
              "      <th>25</th>\n",
              "      <td>B</td>\n",
              "      <td>30714</td>\n",
              "      <td>정농어</td>\n",
              "      <td>59</td>\n",
              "      <td>76</td>\n",
              "      <td>61</td>\n",
              "      <td>26</td>\n",
              "      <td>23</td>\n",
              "    </tr>\n",
              "  </tbody>\n",
              "</table>\n",
              "</div>"
            ],
            "text/plain": [
              "   출신고교     학번   이름   국어  수학  영어  과탐1  과탐2\n",
              "0     B  30103  곽뱅어   91  50  82   27   37\n",
              "1     B  30122  성붕어   70  32  64   20   25\n",
              "2     B  30130  차우럭   87  77  91   34   28\n",
              "3     B  30204  주잉어   69  44  84   19   24\n",
              "4     B  30205  우뽈락   84  54  54   41   39\n",
              "5     B  30214  김멍게   85  75  88   18   20\n",
              "6     B  30215  신해삼   81  73  67   25   23\n",
              "7     B  30219  임방어   37  18  53   18   18\n",
              "8     B  30307  전연어   90  50  50   39   43\n",
              "9     B  30310  홍아귀   82  78  72   14   20\n",
              "10    B  30316  유장어   92  72  91   40   41\n",
              "11    B  30318  진전어   66  75  43   24   23\n",
              "12    B  30413  나홍어   67  27  50   12   18\n",
              "13    B  30415  김거위   65  55  45   14   23\n",
              "14    B  30419  정타조  100  85  85   46   46\n",
              "15    B  30503   박매   98  62  79   39   41\n",
              "16    B  30513  최황새   82  72  50   20   30\n",
              "17    B  30517   이닭   75  85  81   36   21\n",
              "18    B  30518  강제비   64  59  86   21   19\n",
              "19    B  30606  조멧새   84  55  86   22   29\n",
              "20    B  30611  윤원앙   84  70  54   38   30\n",
              "21    B  30619  장잉꼬   91  69  76   34   37\n",
              "22    B  30627  임솔개   37   9  10   20   15\n",
              "23    B  30704  심황태   79  77  91   39   47\n",
              "24    B  30710  노도미   77  17  47   41   39\n",
              "25    B  30714  정농어   59  76  61   26   23"
            ]
          },
          "metadata": {
            "tags": []
          },
          "execution_count": 22
        }
      ]
    },
    {
      "cell_type": "code",
      "metadata": {
        "id": "UXJgtLZfpp2g",
        "colab_type": "code",
        "colab": {}
      },
      "source": [
        "a = pd.to_numeric(df['국어'])\n",
        "b = pd.to_numeric(df['수학'])"
      ],
      "execution_count": 0,
      "outputs": []
    },
    {
      "cell_type": "code",
      "metadata": {
        "id": "lfZ2z9Mpqbub",
        "colab_type": "code",
        "colab": {
          "base_uri": "https://localhost:8080/",
          "height": 313
        },
        "outputId": "f477d1b6-2c19-4daa-f444-0f5dddd66b86"
      },
      "source": [
        "plt.bar(a, b)\n",
        "plt.xlabel('X name')\n",
        "plt.ylabel('Y name')\n",
        "plt.title('test')\n",
        "plt.legend(['laug','math'])"
      ],
      "execution_count": 30,
      "outputs": [
        {
          "output_type": "execute_result",
          "data": {
            "text/plain": [
              "<matplotlib.legend.Legend at 0x7f2da679d470>"
            ]
          },
          "metadata": {
            "tags": []
          },
          "execution_count": 30
        },
        {
          "output_type": "display_data",
          "data": {
            "image/png": "[encoded data removed]",
            "text/plain": [
              "<Figure size 432x288 with 1 Axes>"
            ]
          },
          "metadata": {
            "tags": [],
            "needs_background": "light"
          }
        }
      ]
    },
    {
      "cell_type": "code",
      "metadata": {
        "id": "rLVNsrp0s1ma",
        "colab_type": "code",
        "colab": {
          "base_uri": "https://localhost:8080/",
          "height": 313
        },
        "outputId": "8a6f8123-b422-40b4-ff86-acbae7792068"
      },
      "source": [
        "plt.barh(a, b)\n",
        "plt.xlabel('X name')\n",
        "plt.ylabel('Y name')\n",
        "plt.title('test')\n",
        "plt.legend(['laug','math'])"
      ],
      "execution_count": 32,
      "outputs": [
        {
          "output_type": "execute_result",
          "data": {
            "text/plain": [
              "<matplotlib.legend.Legend at 0x7f2da6698cc0>"
            ]
          },
          "metadata": {
            "tags": []
          },
          "execution_count": 32
        },
        {
          "output_type": "display_data",
          "data": {
            "image/png": "[encoded data removed]",
            "text/plain": [
              "<Figure size 432x288 with 1 Axes>"
            ]
          },
          "metadata": {
            "tags": [],
            "needs_background": "light"
          }
        }
      ]
    },
    {
      "cell_type": "code",
      "metadata": {
        "id": "_filYrZJs4ps",
        "colab_type": "code",
        "colab": {
          "base_uri": "https://localhost:8080/",
          "height": 313
        },
        "outputId": "f0bf99a9-695c-4e80-fc31-cda7b186912c"
      },
      "source": [
        "plt.plot(a, b)\n",
        "plt.xlabel('X name')\n",
        "plt.ylabel('Y name')\n",
        "plt.title('test')\n",
        "plt.legend(['laug','math'])"
      ],
      "execution_count": 34,
      "outputs": [
        {
          "output_type": "execute_result",
          "data": {
            "text/plain": [
              "<matplotlib.legend.Legend at 0x7f2da6848fd0>"
            ]
          },
          "metadata": {
            "tags": []
          },
          "execution_count": 34
        },
        {
          "output_type": "display_data",
          "data": {
            "image/png": "[encoded data removed]",
            "text/plain": [
              "<Figure size 432x288 with 1 Axes>"
            ]
          },
          "metadata": {
            "tags": [],
            "needs_background": "light"
          }
        }
      ]
    },
    {
      "cell_type": "code",
      "metadata": {
        "id": "3I7qzacctAql",
        "colab_type": "code",
        "colab": {
          "base_uri": "https://localhost:8080/",
          "height": 313
        },
        "outputId": "0f0a392e-ff11-44a5-9b35-9b2681b8f0dc"
      },
      "source": [
        "plt.bar(a, b,color='red')\n",
        "plt.xlabel('X name')\n",
        "plt.ylabel('Y name')\n",
        "plt.title('test')\n",
        "plt.legend(['laug','math'])"
      ],
      "execution_count": 35,
      "outputs": [
        {
          "output_type": "execute_result",
          "data": {
            "text/plain": [
              "<matplotlib.legend.Legend at 0x7f2da6692358>"
            ]
          },
          "metadata": {
            "tags": []
          },
          "execution_count": 35
        },
        {
          "output_type": "display_data",
          "data": {
            "image/png": "[encoded data removed]",
            "text/plain": [
              "<Figure size 432x288 with 1 Axes>"
            ]
          },
          "metadata": {
            "tags": [],
            "needs_background": "light"
          }
        }
      ]
    }
  ]
}