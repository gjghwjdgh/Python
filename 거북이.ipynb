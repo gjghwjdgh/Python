{
 "cells": [
  {
   "cell_type": "markdown",
   "metadata": {},
   "source": [
    "# 거북이로 그림그리기"
   ]
  },
  {
   "cell_type": "code",
   "execution_count": null,
   "metadata": {},
   "outputs": [],
   "source": [
    "from turtle import *\n",
    "color('blue', 'red')\n",
    "begin_fill()\n",
    "while True:\n",
    "    forward(200)\n",
    "    left(170)\n",
    "    if abs(pos()) < 1:\n",
    "        break\n",
    "end_fill()\n",
    "done()"
   ]
  },
  {
   "cell_type": "code",
   "execution_count": null,
   "metadata": {},
   "outputs": [],
   "source": [
    "import turtle as t"
   ]
  },
  {
   "cell_type": "code",
   "execution_count": null,
   "metadata": {},
   "outputs": [],
   "source": [
    "import turtle as t\n",
    "t.fd(200)\n",
    "t.exitonclick()\n",
    "t.screensize(200,150)"
   ]
  },
  {
   "cell_type": "code",
   "execution_count": null,
   "metadata": {},
   "outputs": [],
   "source": [
    "t.screensize(200,150)"
   ]
  },
  {
   "cell_type": "code",
   "execution_count": 3,
   "metadata": {},
   "outputs": [],
   "source": [
    "import turtle as t\n",
    "t.fd(200)\n",
    "t.left(120)\n",
    "t.fd(200)\n",
    "t.left(120)\n",
    "t.fd(200)\n",
    "t.left(120)\n",
    "t.exitonclick()"
   ]
  },
  {
   "cell_type": "code",
   "execution_count": 4,
   "metadata": {},
   "outputs": [],
   "source": [
    "# 별\n",
    "import turtle as t\n",
    "t.color('yellow','black')\n",
    "t.begin_fill()\n",
    "t.shape('turtle')\n",
    "for i in range(0,9):\n",
    "    t.fd(100)\n",
    "    t.left(160)\n",
    "t.end_fill()\n",
    "t.exitonclick()"
   ]
  },
  {
   "cell_type": "code",
   "execution_count": 2,
   "metadata": {},
   "outputs": [
    {
     "name": "stdout",
     "output_type": "stream",
     "text": [
      "몇각형? 10\n"
     ]
    }
   ],
   "source": [
    "import turtle as t\n",
    "t.color('red', 'blue')\n",
    "t.begin_fill()\n",
    "t.shape('turtle')\n",
    "angle = int(input(\"몇각형? \"))\n",
    "for i in range(angle):\n",
    "    t.fd(200)\n",
    "    t.left(360/angle)\n",
    "t.end_fill()\n",
    "t.exitonclick()"
   ]
  },
  {
   "cell_type": "code",
   "execution_count": 33,
   "metadata": {},
   "outputs": [],
   "source": [
    "# 과제\n",
    "import turtle as t\n",
    "t.color('yellow','black')\n",
    "t.begin_fill()\n",
    "t.speed(0)\n",
    "for i in range(0,9):\n",
    "    t.fd(400)\n",
    "    t.left(160)\n",
    "    for j in range(0,9):\n",
    "        t.fd(300)\n",
    "        t.left(160)\n",
    "t.end_fill()\n",
    "t.exitonclick()"
   ]
  },
  {
   "cell_type": "code",
   "execution_count": null,
   "metadata": {},
   "outputs": [],
   "source": []
  }
 ],
 "metadata": {
  "kernelspec": {
   "display_name": "Python 3",
   "language": "python",
   "name": "python3"
  },
  "language_info": {
   "codemirror_mode": {
    "name": "ipython",
    "version": 3
   },
   "file_extension": ".py",
   "mimetype": "text/x-python",
   "name": "python",
   "nbconvert_exporter": "python",
   "pygments_lexer": "ipython3",
   "version": "3.7.4"
  }
 },
 "nbformat": 4,
 "nbformat_minor": 2
}
