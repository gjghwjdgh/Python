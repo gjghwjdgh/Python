{
 "cells": [
  {
   "cell_type": "markdown",
   "metadata": {},
   "source": [
    "## class\n",
    "- 실세계의 모든 것을 모델링하여 속성과 동작을 갖는 데이터 타입\n",
    "- 파이썬에서 문자, 스트링, 리스트, dict"
   ]
  },
  {
   "cell_type": "code",
   "execution_count": 1,
   "metadata": {},
   "outputs": [
    {
     "name": "stdout",
     "output_type": "stream",
     "text": [
      "[1, 2, 3, 4, 5, 6]\n"
     ]
    }
   ],
   "source": [
    "a = [1,2,3,4,5]\n",
    "a.append(6)\n",
    "print(a)"
   ]
  },
  {
   "cell_type": "code",
   "execution_count": 2,
   "metadata": {},
   "outputs": [],
   "source": [
    "def test_1() :\n",
    "    pass\n",
    "def test_2() :\n",
    "    pass"
   ]
  },
  {
   "cell_type": "code",
   "execution_count": 4,
   "metadata": {},
   "outputs": [],
   "source": [
    "class person :\n",
    "    pass"
   ]
  },
  {
   "cell_type": "code",
   "execution_count": 7,
   "metadata": {},
   "outputs": [],
   "source": [
    "bob = person()\n",
    "kim = person()"
   ]
  },
  {
   "cell_type": "code",
   "execution_count": 10,
   "metadata": {},
   "outputs": [],
   "source": [
    "a = list()\n",
    "b = dict()"
   ]
  },
  {
   "cell_type": "code",
   "execution_count": 12,
   "metadata": {},
   "outputs": [
    {
     "data": {
      "text/plain": [
       "(list, dict)"
      ]
     },
     "execution_count": 12,
     "metadata": {},
     "output_type": "execute_result"
    }
   ],
   "source": [
    "type(a), type(b)"
   ]
  },
  {
   "cell_type": "code",
   "execution_count": 39,
   "metadata": {},
   "outputs": [],
   "source": [
    "class person() :\n",
    "    def __init__(self, name,age = 18):\n",
    "        print(self,'is Good')\n",
    "        self.name = name\n",
    "        self.age = age"
   ]
  },
  {
   "cell_type": "code",
   "execution_count": 18,
   "metadata": {},
   "outputs": [
    {
     "name": "stdout",
     "output_type": "stream",
     "text": [
      "<__main__.person object at 0x0000014CD8534B08> is Good\n"
     ]
    }
   ],
   "source": [
    "p1=person()"
   ]
  },
  {
   "cell_type": "code",
   "execution_count": 22,
   "metadata": {},
   "outputs": [
    {
     "name": "stdout",
     "output_type": "stream",
     "text": [
      "kim\n"
     ]
    }
   ],
   "source": [
    "print(p1.name)"
   ]
  },
  {
   "cell_type": "code",
   "execution_count": 24,
   "metadata": {},
   "outputs": [
    {
     "name": "stdout",
     "output_type": "stream",
     "text": [
      "50\n"
     ]
    }
   ],
   "source": [
    "print(p1.age)"
   ]
  },
  {
   "cell_type": "code",
   "execution_count": 26,
   "metadata": {},
   "outputs": [
    {
     "name": "stdout",
     "output_type": "stream",
     "text": [
      "허호정\n"
     ]
    }
   ],
   "source": [
    "p1.name = '허호정'\n",
    "print(p1.name)"
   ]
  },
  {
   "cell_type": "code",
   "execution_count": 41,
   "metadata": {},
   "outputs": [
    {
     "name": "stdout",
     "output_type": "stream",
     "text": [
      "<__main__.person object at 0x0000014CD85C6248> is Good\n",
      "<__main__.person object at 0x0000014CD85C6088> is Good\n",
      "<__main__.person object at 0x0000014CD85C6388> is Good\n",
      "허대범 30\n",
      "김재홍 45\n",
      "박가현 18\n"
     ]
    }
   ],
   "source": [
    "p1 = person('허대범',30)\n",
    "p2 = person('김재홍',45)\n",
    "p3 = person('박가현')\n",
    "print(p1.name, p1.age)\n",
    "print(p2.name, p2.age)\n",
    "print(p3.name, p3.age)"
   ]
  },
  {
   "cell_type": "code",
   "execution_count": 53,
   "metadata": {},
   "outputs": [],
   "source": [
    "class person() :\n",
    "    # 객체가 생성되는 순간\n",
    "    def __init__(self, name,age = 18,time = 10):\n",
    "        print(self,'is Good')\n",
    "        self.name = name\n",
    "        self.age = age\n",
    "        self.time = time\n",
    "    def sleep(self):\n",
    "        # 박가현은 잠을 잔다\n",
    "        print(self.name, '은 잠을 잔다')\n",
    "    def game(self):\n",
    "        # 박가현은 잠을 잔다\n",
    "        print(self.name, '은',self.time,'분 동안 게임을 했다')"
   ]
  },
  {
   "cell_type": "code",
   "execution_count": 55,
   "metadata": {},
   "outputs": [
    {
     "name": "stdout",
     "output_type": "stream",
     "text": [
      "<__main__.person object at 0x0000014CD85DCBC8> is Good\n",
      "박가현 은 잠을 잔다\n",
      "박가현 은 10 분 동안 게임을 했다\n"
     ]
    }
   ],
   "source": [
    "p5 = person('박가현',20)\n",
    "p5.sleep()\n",
    "p5.game()"
   ]
  },
  {
   "cell_type": "markdown",
   "metadata": {},
   "source": [
    "### [문제]counter 라는 클래스는\n",
    "- num의 초기값이 0\n",
    "- inc() 메소드를 호출할 때마다 1씩 증가\n",
    "- reset() num의 초기값을 0으로 셋팅\n",
    "- print_cnt() //'현재 num값은 00이다."
   ]
  },
  {
   "cell_type": "code",
   "execution_count": 109,
   "metadata": {},
   "outputs": [],
   "source": [
    "class counter() :\n",
    "    def __init__(self,name,num) :\n",
    "        self.name = name\n",
    "        self.num = num\n",
    "    def inc(self) :\n",
    "        self.num += 1\n",
    "    def reset(self) :\n",
    "        self.num = 0\n",
    "    def print_cnt(self) :\n",
    "        print(\"현재\",self.name,\"값은\",self.num,'이다')"
   ]
  },
  {
   "cell_type": "code",
   "execution_count": 110,
   "metadata": {},
   "outputs": [],
   "source": [
    "p1 = counter('num',0)"
   ]
  },
  {
   "cell_type": "code",
   "execution_count": 134,
   "metadata": {},
   "outputs": [],
   "source": [
    "p1.inc()"
   ]
  },
  {
   "cell_type": "code",
   "execution_count": 138,
   "metadata": {},
   "outputs": [
    {
     "name": "stdout",
     "output_type": "stream",
     "text": [
      "현재 num 값은 0 이다\n"
     ]
    }
   ],
   "source": [
    "p1.print_cnt()"
   ]
  },
  {
   "cell_type": "code",
   "execution_count": 139,
   "metadata": {},
   "outputs": [],
   "source": [
    "p1.reset()"
   ]
  },
  {
   "cell_type": "code",
   "execution_count": 149,
   "metadata": {},
   "outputs": [],
   "source": [
    "class person() :\n",
    "    # 객체가 생성되는 순간\n",
    "    def __init__(self, name,age):\n",
    "        print(self,'is Good')\n",
    "        self.name = name\n",
    "        self.age = age\n",
    "    def eat(self, food):\n",
    "        self.food = food\n",
    "        print('{}는(은) 어제 {}을 먹었다.'.format(self.name, self.food))\n",
    "    def sleep(self,time):\n",
    "        self.time = time\n",
    "        print('{}는(은) 어제 {}시간동안 잤다.'.format(self.name, self.time))\n",
    "    def go(self,job):\n",
    "        self.job = job\n",
    "        print('{}는(은) 졸업후 {}에 다닌다.'.format(self.name, self.job))"
   ]
  },
  {
   "cell_type": "code",
   "execution_count": 153,
   "metadata": {},
   "outputs": [
    {
     "name": "stdout",
     "output_type": "stream",
     "text": [
      "<__main__.person object at 0x0000014CD85F52C8> is Good\n",
      "김환는(은) 어제 치킨을 먹었다.\n",
      "김환는(은) 어제 6시간동안 잤다.\n",
      "김환는(은) 졸업후 인하대학교 컴퓨터공학과에 다닌다.\n"
     ]
    }
   ],
   "source": [
    "p6 = person('김환',20)\n",
    "p6.eat('치킨')\n",
    "p6.sleep(6)\n",
    "p6.go(\"인하대학교 컴퓨터공학과\")"
   ]
  },
  {
   "cell_type": "code",
   "execution_count": 165,
   "metadata": {},
   "outputs": [],
   "source": [
    "class person() :\n",
    "    # 객체가 생성되는 순간\n",
    "    def __init__(self, name,age):\n",
    "        self.name = name\n",
    "        self.age = age\n",
    "    def eat(self, food):\n",
    "        print('{}는(은) 어제 {}을 먹었다.'.format(self.name, food))\n",
    "    def sleep(self,time):\n",
    "        print('{}는(은) 어제 {}시간동안 잤다.'.format(self.name,time))\n",
    "    def go(self,job):\n",
    "        print('{}는(은) 졸업후 {}에 다닌다.'.format(self.name, job))\n",
    "class student(person) :\n",
    "     def __init__(self, name,age):\n",
    "        self.name = name\n",
    "        self.age = age\n",
    "     def sleep(self,time):\n",
    "            super().sleep(time) #오버라이딩 됨 : 재정의 된거임.\n",
    "            print('{}는(은) 오늘 {}시간동안 게임할거다.'.format(self.name,time))\n",
    "class employee(person) :\n",
    "       def sleep(self,time):\n",
    "            super().sleep(time)\n",
    "            print('{}는(은) 오늘 {}시간동안 게임할거다.'.format(self.name,time))\n",
    "       def go(self,job):\n",
    "            super().go(job)\n",
    "            print('{}는(은) {}졸업해서 삼성에 다닌다.'.format(self.name, job))"
   ]
  },
  {
   "cell_type": "code",
   "execution_count": 160,
   "metadata": {},
   "outputs": [
    {
     "name": "stdout",
     "output_type": "stream",
     "text": [
      "김환는(은) 어제 치킨을 먹었다.\n",
      "김환는(은) 어제 6시간동안 잤다.\n",
      "김환는(은) 오늘 6시간동안 게임할거다.\n",
      "김환는(은) 졸업후 인하대학교 컴퓨터공학과에 다닌다.\n"
     ]
    }
   ],
   "source": [
    "p7 = student('김환',20)\n",
    "p7.eat('치킨')\n",
    "p7.sleep(6)\n",
    "p7.go(\"인하대학교 컴퓨터공학과\")"
   ]
  },
  {
   "cell_type": "code",
   "execution_count": 166,
   "metadata": {},
   "outputs": [
    {
     "name": "stdout",
     "output_type": "stream",
     "text": [
      "김환는(은) 어제 치킨을 먹었다.\n",
      "김환는(은) 어제 6시간동안 잤다.\n",
      "김환는(은) 오늘 6시간동안 게임할거다.\n",
      "김환는(은) 졸업후 인하대학교 컴퓨터공학과에 다닌다.\n",
      "김환는(은) 인하대학교 컴퓨터공학과졸업해서 삼성에 다닌다.\n"
     ]
    }
   ],
   "source": [
    "p8 = employee('김환',20)\n",
    "p8.eat('치킨')\n",
    "p8.sleep(6)\n",
    "p8.go(\"인하대학교 컴퓨터공학과\")"
   ]
  }
 ],
 "metadata": {
  "kernelspec": {
   "display_name": "Python 3",
   "language": "python",
   "name": "python3"
  },
  "language_info": {
   "codemirror_mode": {
    "name": "ipython",
    "version": 3
   },
   "file_extension": ".py",
   "mimetype": "text/x-python",
   "name": "python",
   "nbconvert_exporter": "python",
   "pygments_lexer": "ipython3",
   "version": "3.7.4"
  }
 },
 "nbformat": 4,
 "nbformat_minor": 4
}
