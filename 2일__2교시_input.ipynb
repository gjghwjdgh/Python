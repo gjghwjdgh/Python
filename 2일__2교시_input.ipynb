{
  "nbformat": 4,
  "nbformat_minor": 0,
  "metadata": {
    "colab": {
      "name": "2일_ 2교시_input.ipynb",
      "provenance": [],
      "authorship_tag": "ABX9TyNNELdC1+MkAV4bmWvwqZ6i",
      "include_colab_link": true
    },
    "kernelspec": {
      "name": "python3",
      "display_name": "Python 3"
    }
  },
  "cells": [
    {
      "cell_type": "markdown",
      "metadata": {
        "id": "view-in-github",
        "colab_type": "text"
      },
      "source": [
        "<a href=\"https://colab.research.google.com/github/gjghwjdgh/Python/blob/master/2%EC%9D%BC__2%EA%B5%90%EC%8B%9C_input.ipynb\" target=\"_parent\"><img src=\"https://colab.research.google.com/assets/colab-badge.svg\" alt=\"Open In Colab\"/></a>"
      ]
    },
    {
      "cell_type": "code",
      "metadata": {
        "id": "u8mRTLW7DxfI",
        "colab_type": "code",
        "colab": {
          "base_uri": "https://localhost:8080/",
          "height": 53
        },
        "outputId": "0f7d4d82-3f14-4e24-9dcc-3c136e4ef3bb"
      },
      "source": [
        "a = input('당신의 이름을 입력하시오 : ')\n",
        "a"
      ],
      "execution_count": 4,
      "outputs": [
        {
          "output_type": "stream",
          "text": [
            "당신의 이름을 입력하시오 : hey\n"
          ],
          "name": "stdout"
        },
        {
          "output_type": "execute_result",
          "data": {
            "text/plain": [
              "'hey'"
            ]
          },
          "metadata": {
            "tags": []
          },
          "execution_count": 4
        }
      ]
    },
    {
      "cell_type": "code",
      "metadata": {
        "id": "d1capVaMEfVE",
        "colab_type": "code",
        "colab": {
          "base_uri": "https://localhost:8080/",
          "height": 53
        },
        "outputId": "889b8022-eef9-422c-a321-a6a49a0b56a9"
      },
      "source": [
        "b = input('당신의 나이를 입력하시오 : ')\n",
        "b"
      ],
      "execution_count": 6,
      "outputs": [
        {
          "output_type": "stream",
          "text": [
            "당신의 나이를 입력하시오 : 10\n"
          ],
          "name": "stdout"
        },
        {
          "output_type": "execute_result",
          "data": {
            "text/plain": [
              "'10'"
            ]
          },
          "metadata": {
            "tags": []
          },
          "execution_count": 6
        }
      ]
    },
    {
      "cell_type": "code",
      "metadata": {
        "id": "421977PIEuqD",
        "colab_type": "code",
        "colab": {
          "base_uri": "https://localhost:8080/",
          "height": 35
        },
        "outputId": "2f2c400a-db81-48c9-e009-a94045245f90"
      },
      "source": [
        "type(b)"
      ],
      "execution_count": 7,
      "outputs": [
        {
          "output_type": "execute_result",
          "data": {
            "text/plain": [
              "str"
            ]
          },
          "metadata": {
            "tags": []
          },
          "execution_count": 7
        }
      ]
    },
    {
      "cell_type": "code",
      "metadata": {
        "id": "HnxjkUQBEyWY",
        "colab_type": "code",
        "colab": {
          "base_uri": "https://localhost:8080/",
          "height": 35
        },
        "outputId": "a041f4a7-eb2d-47d2-a85a-74adcedce88e"
      },
      "source": [
        "c = int(b)\n",
        "c, type(c)"
      ],
      "execution_count": 9,
      "outputs": [
        {
          "output_type": "execute_result",
          "data": {
            "text/plain": [
              "(10, int)"
            ]
          },
          "metadata": {
            "tags": []
          },
          "execution_count": 9
        }
      ]
    },
    {
      "cell_type": "code",
      "metadata": {
        "id": "XMOJx8FqFOJ9",
        "colab_type": "code",
        "colab": {
          "base_uri": "https://localhost:8080/",
          "height": 71
        },
        "outputId": "69b80b06-582c-4236-80e7-94b3ef5a65d1"
      },
      "source": [
        "year = int(input('출생년도를 입력하시오 : '))\n",
        "print('당신은 ',year,'년도에 태어났습니다.')\n",
        "age = 2020-year+1\n",
        "print('당신의 나이는 ',age,'세 입니다')"
      ],
      "execution_count": 16,
      "outputs": [
        {
          "output_type": "stream",
          "text": [
            "출생년도를 입력하시오 : 2002\n",
            "당신은  2002 년도에 태어났습니다.\n",
            "당신의 나이는  19 세 입니다\n"
          ],
          "name": "stdout"
        }
      ]
    },
    {
      "cell_type": "markdown",
      "metadata": {
        "id": "lgsx1ITjG2b0",
        "colab_type": "text"
      },
      "source": [
        "**Format**\n",
        "서식지정자"
      ]
    },
    {
      "cell_type": "code",
      "metadata": {
        "id": "RPqwNnFTFfPt",
        "colab_type": "code",
        "colab": {
          "base_uri": "https://localhost:8080/",
          "height": 35
        },
        "outputId": "512a7826-d519-47e9-8013-683e022770cd"
      },
      "source": [
        "s='a is {}'\n",
        "s.format('apple')"
      ],
      "execution_count": 18,
      "outputs": [
        {
          "output_type": "execute_result",
          "data": {
            "text/plain": [
              "'a is apple'"
            ]
          },
          "metadata": {
            "tags": []
          },
          "execution_count": 18
        }
      ]
    },
    {
      "cell_type": "code",
      "metadata": {
        "id": "2TRucesKHWW1",
        "colab_type": "code",
        "colab": {
          "base_uri": "https://localhost:8080/",
          "height": 53
        },
        "outputId": "ed70a5e1-ba22-49b2-c4ec-5bd29df2dff2"
      },
      "source": [
        "a='%s %d 개 가격은 %.2f $'\n",
        "b= a%('햄버거',2,4.0*2)\n",
        "print(a)\n",
        "print(b)"
      ],
      "execution_count": 20,
      "outputs": [
        {
          "output_type": "stream",
          "text": [
            "%s %d 개 가격은 %.2f $\n",
            "햄버거 2 개 가격은 8.00 $\n"
          ],
          "name": "stdout"
        }
      ]
    },
    {
      "cell_type": "code",
      "metadata": {
        "id": "QRkMw8bqIHsr",
        "colab_type": "code",
        "colab": {
          "base_uri": "https://localhost:8080/",
          "height": 35
        },
        "outputId": "c556395f-3c62-41db-f5df-149dc7956ae3"
      },
      "source": [
        "# 치킨 2마리 가격은 40000원\n",
        "a = '%s %d마리 가격은 %d 원'\n",
        "b = a%('햄버거',2,20000*2)\n",
        "print(b)"
      ],
      "execution_count": 22,
      "outputs": [
        {
          "output_type": "stream",
          "text": [
            "햄버거 2마리 가격은 40000 원\n"
          ],
          "name": "stdout"
        }
      ]
    }
  ]
}